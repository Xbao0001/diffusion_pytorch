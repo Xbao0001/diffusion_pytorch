{
 "cells": [
  {
   "cell_type": "code",
   "execution_count": 1,
   "metadata": {},
   "outputs": [],
   "source": [
    "import math\n",
    "import matplotlib.pyplot as plt\n",
    "import torch\n",
    "from dir import utils\n",
    "from dir.models.guided_model import *\n",
    "\n",
    "from diffusers import DDPMPipeline, DDPMScheduler, DDIMPipeline, DDIMScheduler\n",
    "from diffusers.optimization import get_scheduler\n",
    "from omegaconf import OmegaConf\n",
    "\n",
    "%load_ext autoreload\n",
    "%autoreload 2"
   ]
  },
  {
   "cell_type": "code",
   "execution_count": 2,
   "metadata": {},
   "outputs": [],
   "source": [
    "cfg = OmegaConf.load('./configs/models/guided/lsun.yaml')\n",
    "model = UNetModel(**cfg)\n",
    "ckpt = torch.load('./pretrained/guided_diffusion/lsun_bedroom.pt')\n",
    "model.load_state_dict(ckpt, strict=True)\n",
    "model.sample_size = 256\n",
    "noise_scheduler = DDPMScheduler(\n",
    "    num_train_timesteps=1000, \n",
    "    variance_type='learned',\n",
    "    tensor_format=\"pt\",\n",
    ")\n",
    "pipeline = DDPMPipeline(\n",
    "    unet=model,\n",
    "    scheduler=noise_scheduler,\n",
    ")"
   ]
  },
  {
   "cell_type": "code",
   "execution_count": 3,
   "metadata": {},
   "outputs": [
    {
     "data": {
      "application/vnd.jupyter.widget-view+json": {
       "model_id": "75c93a87efb847c4842a7d5cf0d88fb3",
       "version_major": 2,
       "version_minor": 0
      },
      "text/plain": [
       "  0%|          | 0/1000 [00:00<?, ?it/s]"
      ]
     },
     "metadata": {},
     "output_type": "display_data"
    },
    {
     "data": {
      "image/png": "[encoded data removed]",
      "text/plain": [
       "<PIL.Image.Image image mode=RGB size=512x512>"
      ]
     },
     "execution_count": 3,
     "metadata": {},
     "output_type": "execute_result"
    }
   ],
   "source": [
    "img = pipeline(batch_size=4, output_type=\"numpy\")[\"sample\"]\n",
    "utils.to_pil_image(utils.make_grid(img, 2))"
   ]
  },
  {
   "cell_type": "code",
   "execution_count": 4,
   "metadata": {},
   "outputs": [
    {
     "ename": "TypeError",
     "evalue": "__init__() got an unexpected keyword argument 'variance_type'",
     "output_type": "error",
     "traceback": [
      "\u001b[0;31m---------------------------------------------------------------------------\u001b[0m",
      "\u001b[0;31mTypeError\u001b[0m                                 Traceback (most recent call last)",
      "\u001b[1;32m/opt/data/private/diffusion/my/guided.ipynb Cell 4\u001b[0m in \u001b[0;36m<cell line: 6>\u001b[0;34m()\u001b[0m\n\u001b[1;32m      <a href='vscode-notebook-cell://ssh-remote%2B3090/opt/data/private/diffusion/my/guided.ipynb#W3sdnNjb2RlLXJlbW90ZQ%3D%3D?line=3'>4</a>\u001b[0m model\u001b[39m.\u001b[39mload_state_dict(ckpt, strict\u001b[39m=\u001b[39m\u001b[39mTrue\u001b[39;00m)\n\u001b[1;32m      <a href='vscode-notebook-cell://ssh-remote%2B3090/opt/data/private/diffusion/my/guided.ipynb#W3sdnNjb2RlLXJlbW90ZQ%3D%3D?line=4'>5</a>\u001b[0m model\u001b[39m.\u001b[39msample_size \u001b[39m=\u001b[39m \u001b[39m256\u001b[39m\n\u001b[0;32m----> <a href='vscode-notebook-cell://ssh-remote%2B3090/opt/data/private/diffusion/my/guided.ipynb#W3sdnNjb2RlLXJlbW90ZQ%3D%3D?line=5'>6</a>\u001b[0m noise_scheduler \u001b[39m=\u001b[39m DDIMScheduler(\n\u001b[1;32m      <a href='vscode-notebook-cell://ssh-remote%2B3090/opt/data/private/diffusion/my/guided.ipynb#W3sdnNjb2RlLXJlbW90ZQ%3D%3D?line=6'>7</a>\u001b[0m     num_train_timesteps\u001b[39m=\u001b[39;49m\u001b[39m1000\u001b[39;49m, \n\u001b[1;32m      <a href='vscode-notebook-cell://ssh-remote%2B3090/opt/data/private/diffusion/my/guided.ipynb#W3sdnNjb2RlLXJlbW90ZQ%3D%3D?line=7'>8</a>\u001b[0m     variance_type\u001b[39m=\u001b[39;49m\u001b[39m'\u001b[39;49m\u001b[39mlearned\u001b[39;49m\u001b[39m'\u001b[39;49m,\n\u001b[1;32m      <a href='vscode-notebook-cell://ssh-remote%2B3090/opt/data/private/diffusion/my/guided.ipynb#W3sdnNjb2RlLXJlbW90ZQ%3D%3D?line=8'>9</a>\u001b[0m     tensor_format\u001b[39m=\u001b[39;49m\u001b[39m\"\u001b[39;49m\u001b[39mpt\u001b[39;49m\u001b[39m\"\u001b[39;49m,\n\u001b[1;32m     <a href='vscode-notebook-cell://ssh-remote%2B3090/opt/data/private/diffusion/my/guided.ipynb#W3sdnNjb2RlLXJlbW90ZQ%3D%3D?line=9'>10</a>\u001b[0m )\n\u001b[1;32m     <a href='vscode-notebook-cell://ssh-remote%2B3090/opt/data/private/diffusion/my/guided.ipynb#W3sdnNjb2RlLXJlbW90ZQ%3D%3D?line=10'>11</a>\u001b[0m pipeline \u001b[39m=\u001b[39m DDPMPipeline(\n\u001b[1;32m     <a href='vscode-notebook-cell://ssh-remote%2B3090/opt/data/private/diffusion/my/guided.ipynb#W3sdnNjb2RlLXJlbW90ZQ%3D%3D?line=11'>12</a>\u001b[0m     unet\u001b[39m=\u001b[39mmodel,\n\u001b[1;32m     <a href='vscode-notebook-cell://ssh-remote%2B3090/opt/data/private/diffusion/my/guided.ipynb#W3sdnNjb2RlLXJlbW90ZQ%3D%3D?line=12'>13</a>\u001b[0m     scheduler\u001b[39m=\u001b[39mnoise_scheduler,\n\u001b[1;32m     <a href='vscode-notebook-cell://ssh-remote%2B3090/opt/data/private/diffusion/my/guided.ipynb#W3sdnNjb2RlLXJlbW90ZQ%3D%3D?line=13'>14</a>\u001b[0m )\n",
      "File \u001b[0;32m/opt/data/private/diffusion/diffusers/src/diffusers/configuration_utils.py:318\u001b[0m, in \u001b[0;36mregister_to_config.<locals>.inner_init\u001b[0;34m(self, *args, **kwargs)\u001b[0m\n\u001b[1;32m    314\u001b[0m \u001b[39m@functools\u001b[39m\u001b[39m.\u001b[39mwraps(init)\n\u001b[1;32m    315\u001b[0m \u001b[39mdef\u001b[39;00m \u001b[39minner_init\u001b[39m(\u001b[39mself\u001b[39m, \u001b[39m*\u001b[39margs, \u001b[39m*\u001b[39m\u001b[39m*\u001b[39mkwargs):\n\u001b[1;32m    316\u001b[0m     \u001b[39m# Ignore private kwargs in the init.\u001b[39;00m\n\u001b[1;32m    317\u001b[0m     init_kwargs \u001b[39m=\u001b[39m {k: v \u001b[39mfor\u001b[39;00m k, v \u001b[39min\u001b[39;00m kwargs\u001b[39m.\u001b[39mitems() \u001b[39mif\u001b[39;00m \u001b[39mnot\u001b[39;00m k\u001b[39m.\u001b[39mstartswith(\u001b[39m\"\u001b[39m\u001b[39m_\u001b[39m\u001b[39m\"\u001b[39m)}\n\u001b[0;32m--> 318\u001b[0m     init(\u001b[39mself\u001b[39;49m, \u001b[39m*\u001b[39;49margs, \u001b[39m*\u001b[39;49m\u001b[39m*\u001b[39;49minit_kwargs)\n\u001b[1;32m    319\u001b[0m     \u001b[39mif\u001b[39;00m \u001b[39mnot\u001b[39;00m \u001b[39misinstance\u001b[39m(\u001b[39mself\u001b[39m, ConfigMixin):\n\u001b[1;32m    320\u001b[0m         \u001b[39mraise\u001b[39;00m \u001b[39mRuntimeError\u001b[39;00m(\n\u001b[1;32m    321\u001b[0m             \u001b[39mf\u001b[39m\u001b[39m\"\u001b[39m\u001b[39m`@register_for_config` was applied to \u001b[39m\u001b[39m{\u001b[39;00m\u001b[39mself\u001b[39m\u001b[39m.\u001b[39m\u001b[39m__class__\u001b[39m\u001b[39m.\u001b[39m\u001b[39m__name__\u001b[39m\u001b[39m}\u001b[39;00m\u001b[39m init method, but this class does \u001b[39m\u001b[39m\"\u001b[39m\n\u001b[1;32m    322\u001b[0m             \u001b[39m\"\u001b[39m\u001b[39mnot inherit from `ConfigMixin`.\u001b[39m\u001b[39m\"\u001b[39m\n\u001b[1;32m    323\u001b[0m         )\n",
      "\u001b[0;31mTypeError\u001b[0m: __init__() got an unexpected keyword argument 'variance_type'"
     ]
    }
   ],
   "source": [
    "cfg = OmegaConf.load('./configs/models/guided/lsun.yaml')\n",
    "model = UNetModel(**cfg)\n",
    "ckpt = torch.load('./pretrained/guided_diffusion/lsun_bedroom.pt')\n",
    "model.load_state_dict(ckpt, strict=True)\n",
    "model.sample_size = 256\n",
    "noise_scheduler = DDIMScheduler(\n",
    "    num_train_timesteps=1000, \n",
    "    variance_type='learned',\n",
    "    tensor_format=\"pt\",\n",
    ")\n",
    "pipeline = DDPMPipeline(\n",
    "    unet=model,\n",
    "    scheduler=noise_scheduler,\n",
    ")"
   ]
  }
 ],
 "metadata": {
  "kernelspec": {
   "display_name": "Python 3.9.0 ('torch')",
   "language": "python",
   "name": "python3"
  },
  "language_info": {
   "codemirror_mode": {
    "name": "ipython",
    "version": 3
   },
   "file_extension": ".py",
   "mimetype": "text/x-python",
   "name": "python",
   "nbconvert_exporter": "python",
   "pygments_lexer": "ipython3",
   "version": "3.9.0"
  },
  "orig_nbformat": 4,
  "vscode": {
   "interpreter": {
    "hash": "6f64be793538f7fe230f350828c9baf03d97c4df0981f52e8388f53f367f4a42"
   }
  }
 },
 "nbformat": 4,
 "nbformat_minor": 2
}
